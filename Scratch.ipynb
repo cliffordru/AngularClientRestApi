{
  "nbformat": 4,
  "nbformat_minor": 0,
  "metadata": {
    "colab": {
      "provenance": [],
      "authorship_tag": "ABX9TyOnVHiB1ME/ylYwhzh7j/Pd",
      "include_colab_link": true
    },
    "kernelspec": {
      "name": "python3",
      "display_name": "Python 3"
    },
    "language_info": {
      "name": "python"
    }
  },
  "cells": [
    {
      "cell_type": "markdown",
      "metadata": {
        "id": "view-in-github",
        "colab_type": "text"
      },
      "source": [
        "<a href=\"https://colab.research.google.com/github/cliffordru/AngularClientRestApi/blob/main/Scratch.ipynb\" target=\"_parent\"><img src=\"https://colab.research.google.com/assets/colab-badge.svg\" alt=\"Open In Colab\"/></a>"
      ]
    },
    {
      "cell_type": "code",
      "execution_count": 1,
      "metadata": {
        "id": "Hg1YhwVcHoBw"
      },
      "outputs": [],
      "source": [
        "import seaborn as sns\n",
        "import pandas as pd"
      ]
    },
    {
      "cell_type": "code",
      "source": [
        "# Import Titanic dataset\n",
        "titanic_df = sns.load_dataset('titanic')\n",
        "\n",
        "# Identify missing values\n",
        "missing_values = titanic_df.isnull().sum()\n",
        "print(missing_values)"
      ],
      "metadata": {
        "id": "agRqVzAyHzaa"
      },
      "execution_count": null,
      "outputs": []
    }
  ]
}